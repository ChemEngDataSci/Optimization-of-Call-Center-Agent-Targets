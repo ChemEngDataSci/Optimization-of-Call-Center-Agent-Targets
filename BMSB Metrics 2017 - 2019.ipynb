{
 "cells": [
  {
   "cell_type": "markdown",
   "metadata": {},
   "source": [
    "The purpose of this problem is to find the ideal targets and its weightings of a call center agent's scorecard. Scorecards are used to track the agent's performance (such as customer quality, save rate, first call resolution, average handle time, transfer percentage). <br>\n",
    "\n",
    "In this exercise, i used a linear regression to model the relationship between all the different metrics and their impacts to average handle time, which is the most important metric and the upper management focuses on this the most. Once the model is determined, it is translated into an optimization function to determine for what values of the metrics, will yield the lowest average handle time. The lower the average handle time, the better it is in terms of cost savings. "
   ]
  },
  {
   "cell_type": "code",
   "execution_count": 1,
   "metadata": {},
   "outputs": [],
   "source": [
    "import pandas as pd\n",
    "import numpy as np\n",
    "from scipy.optimize import minimize\n",
    "import matplotlib.pyplot as plt\n",
    "import seaborn as sns\n",
    "from sklearn.preprocessing import StandardScaler\n",
    "from sklearn.model_selection import train_test_split\n",
    "from sklearn.ensemble import RandomForestRegressor\n",
    "from sklearn.linear_model import LinearRegression"
   ]
  },
  {
   "cell_type": "code",
   "execution_count": 2,
   "metadata": {},
   "outputs": [
    {
     "data": {
      "text/html": [
       "<div>\n",
       "<style scoped>\n",
       "    .dataframe tbody tr th:only-of-type {\n",
       "        vertical-align: middle;\n",
       "    }\n",
       "\n",
       "    .dataframe tbody tr th {\n",
       "        vertical-align: top;\n",
       "    }\n",
       "\n",
       "    .dataframe thead th {\n",
       "        text-align: right;\n",
       "    }\n",
       "</style>\n",
       "<table border=\"1\" class=\"dataframe\">\n",
       "  <thead>\n",
       "    <tr style=\"text-align: right;\">\n",
       "      <th></th>\n",
       "      <th>ABT</th>\n",
       "      <th>ADJUSTMENTS</th>\n",
       "      <th>BPI_OVERALL_FLOW_COMPLIANCE</th>\n",
       "      <th>CUSTOMER_SAVE_RATE_7</th>\n",
       "      <th>CUSTOMER_SAVE_RATE_DAY60_NL</th>\n",
       "      <th>FCR7</th>\n",
       "      <th>FIZZBACK_SAT</th>\n",
       "      <th>LEADS_PER_CONTACTS_TOTAL</th>\n",
       "      <th>TRANSFER_IMPACT_LEADS</th>\n",
       "      <th>FCR45</th>\n",
       "    </tr>\n",
       "    <tr>\n",
       "      <th>Date</th>\n",
       "      <th></th>\n",
       "      <th></th>\n",
       "      <th></th>\n",
       "      <th></th>\n",
       "      <th></th>\n",
       "      <th></th>\n",
       "      <th></th>\n",
       "      <th></th>\n",
       "      <th></th>\n",
       "      <th></th>\n",
       "    </tr>\n",
       "  </thead>\n",
       "  <tbody>\n",
       "    <tr>\n",
       "      <th>2018-01-31</th>\n",
       "      <td>660.235360</td>\n",
       "      <td>1.922169</td>\n",
       "      <td>1.000000</td>\n",
       "      <td>0.942205</td>\n",
       "      <td>0.918784</td>\n",
       "      <td>0.820080</td>\n",
       "      <td>0.796027</td>\n",
       "      <td>0.015950</td>\n",
       "      <td>0.108299</td>\n",
       "      <td>0.532939</td>\n",
       "    </tr>\n",
       "    <tr>\n",
       "      <th>2018-02-28</th>\n",
       "      <td>565.349495</td>\n",
       "      <td>1.594460</td>\n",
       "      <td>1.000000</td>\n",
       "      <td>0.948879</td>\n",
       "      <td>0.941483</td>\n",
       "      <td>0.826016</td>\n",
       "      <td>0.822171</td>\n",
       "      <td>0.016286</td>\n",
       "      <td>0.097855</td>\n",
       "      <td>0.506132</td>\n",
       "    </tr>\n",
       "    <tr>\n",
       "      <th>2018-03-31</th>\n",
       "      <td>544.760639</td>\n",
       "      <td>1.507393</td>\n",
       "      <td>1.000000</td>\n",
       "      <td>0.945735</td>\n",
       "      <td>0.938949</td>\n",
       "      <td>0.824158</td>\n",
       "      <td>0.817490</td>\n",
       "      <td>0.017415</td>\n",
       "      <td>0.090683</td>\n",
       "      <td>0.498040</td>\n",
       "    </tr>\n",
       "    <tr>\n",
       "      <th>2018-04-30</th>\n",
       "      <td>539.364180</td>\n",
       "      <td>2.126434</td>\n",
       "      <td>1.000000</td>\n",
       "      <td>0.953866</td>\n",
       "      <td>0.940069</td>\n",
       "      <td>0.824352</td>\n",
       "      <td>0.817862</td>\n",
       "      <td>0.016807</td>\n",
       "      <td>0.091555</td>\n",
       "      <td>0.498968</td>\n",
       "    </tr>\n",
       "    <tr>\n",
       "      <th>2018-05-31</th>\n",
       "      <td>538.194868</td>\n",
       "      <td>4.004590</td>\n",
       "      <td>0.561822</td>\n",
       "      <td>0.948408</td>\n",
       "      <td>0.944513</td>\n",
       "      <td>0.824194</td>\n",
       "      <td>0.808113</td>\n",
       "      <td>0.017985</td>\n",
       "      <td>0.089879</td>\n",
       "      <td>0.494091</td>\n",
       "    </tr>\n",
       "  </tbody>\n",
       "</table>\n",
       "</div>"
      ],
      "text/plain": [
       "                   ABT  ADJUSTMENTS  BPI_OVERALL_FLOW_COMPLIANCE  \\\n",
       "Date                                                               \n",
       "2018-01-31  660.235360     1.922169                     1.000000   \n",
       "2018-02-28  565.349495     1.594460                     1.000000   \n",
       "2018-03-31  544.760639     1.507393                     1.000000   \n",
       "2018-04-30  539.364180     2.126434                     1.000000   \n",
       "2018-05-31  538.194868     4.004590                     0.561822   \n",
       "\n",
       "            CUSTOMER_SAVE_RATE_7  CUSTOMER_SAVE_RATE_DAY60_NL      FCR7  \\\n",
       "Date                                                                      \n",
       "2018-01-31              0.942205                     0.918784  0.820080   \n",
       "2018-02-28              0.948879                     0.941483  0.826016   \n",
       "2018-03-31              0.945735                     0.938949  0.824158   \n",
       "2018-04-30              0.953866                     0.940069  0.824352   \n",
       "2018-05-31              0.948408                     0.944513  0.824194   \n",
       "\n",
       "            FIZZBACK_SAT  LEADS_PER_CONTACTS_TOTAL  TRANSFER_IMPACT_LEADS  \\\n",
       "Date                                                                        \n",
       "2018-01-31      0.796027                  0.015950               0.108299   \n",
       "2018-02-28      0.822171                  0.016286               0.097855   \n",
       "2018-03-31      0.817490                  0.017415               0.090683   \n",
       "2018-04-30      0.817862                  0.016807               0.091555   \n",
       "2018-05-31      0.808113                  0.017985               0.089879   \n",
       "\n",
       "               FCR45  \n",
       "Date                  \n",
       "2018-01-31  0.532939  \n",
       "2018-02-28  0.506132  \n",
       "2018-03-31  0.498040  \n",
       "2018-04-30  0.498968  \n",
       "2018-05-31  0.494091  "
      ]
     },
     "execution_count": 2,
     "metadata": {},
     "output_type": "execute_result"
    }
   ],
   "source": [
    "df = pd.read_csv(\"BMSB_Metrics.csv\")\n",
    "df['Date'] = pd.to_datetime(df['Row Labels'])\n",
    "df.index = df['Date']\n",
    "df = df.drop(columns = ['Row Labels','Date'])\n",
    "df = df['2018':'2019']\n",
    "df.head()"
   ]
  },
  {
   "cell_type": "code",
   "execution_count": 3,
   "metadata": {},
   "outputs": [
    {
     "data": {
      "text/plain": [
       "ABT                            0\n",
       "ADJUSTMENTS                    0\n",
       "BPI_OVERALL_FLOW_COMPLIANCE    0\n",
       "CUSTOMER_SAVE_RATE_7           0\n",
       "CUSTOMER_SAVE_RATE_DAY60_NL    0\n",
       "FCR7                           0\n",
       "FIZZBACK_SAT                   0\n",
       "LEADS_PER_CONTACTS_TOTAL       0\n",
       "TRANSFER_IMPACT_LEADS          0\n",
       "FCR45                          0\n",
       "dtype: int64"
      ]
     },
     "execution_count": 3,
     "metadata": {},
     "output_type": "execute_result"
    }
   ],
   "source": [
    "#find how many nan per column\n",
    "df.isnull().sum()"
   ]
  },
  {
   "cell_type": "code",
   "execution_count": 4,
   "metadata": {},
   "outputs": [
    {
     "name": "stdout",
     "output_type": "stream",
     "text": [
      "ABT 0\n",
      "ADJUSTMENTS 0\n",
      "BPI_OVERALL_FLOW_COMPLIANCE 0\n",
      "CUSTOMER_SAVE_RATE_7 0\n",
      "CUSTOMER_SAVE_RATE_DAY60_NL 0\n",
      "FCR7 0\n",
      "FIZZBACK_SAT 0\n",
      "LEADS_PER_CONTACTS_TOTAL 0\n",
      "TRANSFER_IMPACT_LEADS 0\n",
      "FCR45 0\n"
     ]
    }
   ],
   "source": [
    "#find how many zero per column\n",
    "for i in df.columns:\n",
    "    column_zero = np.where(df[i] == 0 ,1, 0)\n",
    "    total = column_zero.sum(axis = 0)\n",
    "    print(i,total)"
   ]
  },
  {
   "cell_type": "code",
   "execution_count": 5,
   "metadata": {},
   "outputs": [
    {
     "data": {
      "text/plain": [
       "<matplotlib.axes._subplots.AxesSubplot at 0xc29ca90>"
      ]
     },
     "execution_count": 5,
     "metadata": {},
     "output_type": "execute_result"
    },
    {
     "data": {
      "image/png": "[encoded data removed]",
      "text/plain": [
       "<Figure size 1080x720 with 2 Axes>"
      ]
     },
     "metadata": {
      "needs_background": "light"
     },
     "output_type": "display_data"
    }
   ],
   "source": [
    "#find the correlation between each metric\n",
    "fig, ax = plt.subplots(1,1,figsize = (15,10))\n",
    "sns.heatmap(df.corr(), annot = True,cmap=\"YlGnBu\")"
   ]
  },
  {
   "cell_type": "code",
   "execution_count": 6,
   "metadata": {},
   "outputs": [],
   "source": [
    "#standardize the data\n",
    "df_x = df.iloc[:,1:]\n",
    "df_y = df.iloc[:,0]\n",
    "preprocessing = StandardScaler()\n",
    "x = preprocessing.fit_transform(df_x)\n",
    "y = preprocessing.fit_transform(np.array(df_y).reshape(-1,1))\n",
    "X_train, X_test, y_train, y_test = train_test_split(x, y, test_size=0.33, random_state=100)"
   ]
  },
  {
   "cell_type": "code",
   "execution_count": 7,
   "metadata": {},
   "outputs": [
    {
     "name": "stdout",
     "output_type": "stream",
     "text": [
      "The score of the random forest:  0.932581161131811\n"
     ]
    },
    {
     "name": "stderr",
     "output_type": "stream",
     "text": [
      "C:\\Users\\aaronmok\\AppData\\Local\\Continuum\\anaconda3\\lib\\site-packages\\sklearn\\ensemble\\forest.py:246: FutureWarning: The default value of n_estimators will change from 10 in version 0.20 to 100 in 0.22.\n",
      "  \"10 in version 0.20 to 100 in 0.22.\", FutureWarning)\n",
      "C:\\Users\\aaronmok\\AppData\\Local\\Continuum\\anaconda3\\lib\\site-packages\\ipykernel_launcher.py:3: DataConversionWarning: A column-vector y was passed when a 1d array was expected. Please change the shape of y to (n_samples,), for example using ravel().\n",
      "  This is separate from the ipykernel package so we can avoid doing imports until\n"
     ]
    }
   ],
   "source": [
    "#random forest\n",
    "RF_model = RandomForestRegressor()\n",
    "RF_model.fit(X_train,y_train)\n",
    "score = RF_model.score(X_train,y_train)\n",
    "print('The score of the random forest: ',score)"
   ]
  },
  {
   "cell_type": "code",
   "execution_count": 8,
   "metadata": {},
   "outputs": [],
   "source": [
    "names = df_x.columns\n",
    "feat_import_df = pd.DataFrame({'Impact_on_ABT':RF_model.feature_importances_}, index = names)\n",
    "feat_import_results = feat_import_df.sort_values(by = 'Impact_on_ABT',ascending = False)\n",
    "feat_import_results['Impact_on_ABT'] = [\"{0:.2f}%\".format(val * 100) for val in feat_import_results['Impact_on_ABT']]"
   ]
  },
  {
   "cell_type": "code",
   "execution_count": 9,
   "metadata": {},
   "outputs": [
    {
     "data": {
      "text/html": [
       "<div>\n",
       "<style scoped>\n",
       "    .dataframe tbody tr th:only-of-type {\n",
       "        vertical-align: middle;\n",
       "    }\n",
       "\n",
       "    .dataframe tbody tr th {\n",
       "        vertical-align: top;\n",
       "    }\n",
       "\n",
       "    .dataframe thead th {\n",
       "        text-align: right;\n",
       "    }\n",
       "</style>\n",
       "<table border=\"1\" class=\"dataframe\">\n",
       "  <thead>\n",
       "    <tr style=\"text-align: right;\">\n",
       "      <th></th>\n",
       "      <th>Impact_on_ABT</th>\n",
       "    </tr>\n",
       "  </thead>\n",
       "  <tbody>\n",
       "    <tr>\n",
       "      <th>TRANSFER_IMPACT_LEADS</th>\n",
       "      <td>59.45%</td>\n",
       "    </tr>\n",
       "    <tr>\n",
       "      <th>CUSTOMER_SAVE_RATE_DAY60_NL</th>\n",
       "      <td>10.22%</td>\n",
       "    </tr>\n",
       "    <tr>\n",
       "      <th>ADJUSTMENTS</th>\n",
       "      <td>8.49%</td>\n",
       "    </tr>\n",
       "    <tr>\n",
       "      <th>FCR45</th>\n",
       "      <td>8.16%</td>\n",
       "    </tr>\n",
       "    <tr>\n",
       "      <th>FCR7</th>\n",
       "      <td>6.68%</td>\n",
       "    </tr>\n",
       "    <tr>\n",
       "      <th>FIZZBACK_SAT</th>\n",
       "      <td>2.03%</td>\n",
       "    </tr>\n",
       "    <tr>\n",
       "      <th>BPI_OVERALL_FLOW_COMPLIANCE</th>\n",
       "      <td>1.92%</td>\n",
       "    </tr>\n",
       "    <tr>\n",
       "      <th>CUSTOMER_SAVE_RATE_7</th>\n",
       "      <td>1.53%</td>\n",
       "    </tr>\n",
       "    <tr>\n",
       "      <th>LEADS_PER_CONTACTS_TOTAL</th>\n",
       "      <td>1.52%</td>\n",
       "    </tr>\n",
       "  </tbody>\n",
       "</table>\n",
       "</div>"
      ],
      "text/plain": [
       "                            Impact_on_ABT\n",
       "TRANSFER_IMPACT_LEADS              59.45%\n",
       "CUSTOMER_SAVE_RATE_DAY60_NL        10.22%\n",
       "ADJUSTMENTS                         8.49%\n",
       "FCR45                               8.16%\n",
       "FCR7                                6.68%\n",
       "FIZZBACK_SAT                        2.03%\n",
       "BPI_OVERALL_FLOW_COMPLIANCE         1.92%\n",
       "CUSTOMER_SAVE_RATE_7                1.53%\n",
       "LEADS_PER_CONTACTS_TOTAL            1.52%"
      ]
     },
     "execution_count": 9,
     "metadata": {},
     "output_type": "execute_result"
    }
   ],
   "source": [
    "#the table below is used to determine the influence it has on the y value, which is average handle time. \n",
    "#As you can see, the more transfers and adjustment means higher average handle time\n",
    "#while, fizzback (quality) and blueprints compliance has a lower influence\n",
    "\n",
    "feat_import_results"
   ]
  },
  {
   "cell_type": "code",
   "execution_count": 10,
   "metadata": {},
   "outputs": [
    {
     "name": "stdout",
     "output_type": "stream",
     "text": [
      "The score of the linear regression:  0.8962650283469583\n"
     ]
    }
   ],
   "source": [
    "#Linear Regression\n",
    "LR_model = LinearRegression()\n",
    "LR_model.fit(df_x,df_y)\n",
    "score = LR_model.score(df_x,df_y)\n",
    "print('The score of the linear regression: ',score)\n",
    "coef = LR_model.coef_\n",
    "intercept = LR_model.intercept_ "
   ]
  },
  {
   "cell_type": "code",
   "execution_count": 11,
   "metadata": {},
   "outputs": [
    {
     "data": {
      "text/plain": [
       "Index(['ADJUSTMENTS', 'BPI_OVERALL_FLOW_COMPLIANCE', 'CUSTOMER_SAVE_RATE_7',\n",
       "       'CUSTOMER_SAVE_RATE_DAY60_NL', 'FCR7', 'FIZZBACK_SAT',\n",
       "       'LEADS_PER_CONTACTS_TOTAL', 'TRANSFER_IMPACT_LEADS', 'FCR45'],\n",
       "      dtype='object')"
      ]
     },
     "execution_count": 11,
     "metadata": {},
     "output_type": "execute_result"
    }
   ],
   "source": [
    "names"
   ]
  },
  {
   "cell_type": "code",
   "execution_count": 51,
   "metadata": {},
   "outputs": [],
   "source": [
    "#optimization function\n",
    "\n",
    "#Constaints\n",
    "# $1.50 < ADJUSTMENTS < #3.00\n",
    "# 80% < BPI_OVERALL_FLOW_COMPLIANCE < 100%\n",
    "# 96% < CUSTOMER_SAVE_RATE_7 < 100%\n",
    "# 94% < CUSTOMER_SAVE_RATE_DAY60_NL < 100%\n",
    "# 80% < FCR7 < 90%\n",
    "# 75% < FIZZBACK_SAT < 90%\n",
    "# 1.5% < LEADS_PER_CONTACTS_TOTAL < 2.5%\n",
    "# 10% < TRANSFER_IMPACT_LEADS < 20%\n",
    "# 45% < FCR45 < 55%\n",
    "# 450 < ABT\n",
    "\n",
    "x0 = [1.5,0.8,0.75,0.75,0.75,0.75,0.015,0.1,0.5] \n",
    "results = minimize(lambda x: (x[0]*coef[0]) + (x[1]*coef[1]) + (x[2]*coef[2]) + (x[3]*coef[3]) + (x[4]*coef[4])\\\n",
    "          + (x[5]*coef[5]) + (x[6]*coef[6]) + (x[7]*coef[7]) + (x[8]*coef[8]) + intercept, x0, \n",
    "                   \n",
    "    constraints = [{'type': 'ineq','fun': lambda x: (x[0] - 1.5)},\n",
    "                   {'type': 'ineq','fun': lambda x: -(x[0] - 3)},\n",
    "                   {'type': 'ineq','fun': lambda x: (x[1] - 0.80)},\n",
    "                   {'type': 'ineq','fun': lambda x: -(x[1] - 1)},\n",
    "                   {'type': 'ineq','fun': lambda x: (x[2] - 0.96)},\n",
    "                   {'type': 'ineq','fun': lambda x: -(x[2] - 1)},\n",
    "                   {'type': 'ineq','fun': lambda x: (x[3] - 0.94)},\n",
    "                   {'type': 'ineq','fun': lambda x: -(x[3] - 1)},\n",
    "                   {'type': 'ineq','fun': lambda x: (x[4] - 0.80)},\n",
    "                   {'type': 'ineq','fun': lambda x: -(x[4] - 0.9)},\n",
    "                   {'type': 'ineq','fun': lambda x: (x[5] - 0.75)},\n",
    "                   {'type': 'ineq','fun': lambda x: -(x[5] - 0.9)},\n",
    "                   {'type': 'ineq','fun': lambda x: (x[6] - 0.015)},\n",
    "                   {'type': 'ineq','fun': lambda x: -(x[6] - 0.025)},\n",
    "                   {'type': 'ineq','fun': lambda x: (x[7] - 0.1)},\n",
    "                   {'type': 'ineq','fun': lambda x: -(x[7] - 0.2)},\n",
    "                   {'type': 'ineq','fun': lambda x: (x[8] - 0.45)},\n",
    "                   {'type': 'ineq','fun': lambda x: -(x[8] - 0.55)},\n",
    "                  {'type': 'ineq','fun': lambda x: (x[0]*coef[0]) + (x[1]*coef[1]) + (x[2]*coef[2]) + (x[3]*coef[3]) + (x[4]*coef[4])\\\n",
    "                          + (x[5]*coef[5]) + (x[6]*coef[6]) + (x[7]*coef[7]) + (x[8]*coef[8]) + intercept - 500}],\n",
    "                   \n",
    "    method='SLSQP')"
   ]
  },
  {
   "cell_type": "code",
   "execution_count": 52,
   "metadata": {},
   "outputs": [
    {
     "name": "stdout",
     "output_type": "stream",
     "text": [
      "These are the optimized values:  [1.49999991 0.79999866 0.96000257 0.93999076 0.86054536 0.80133732\n",
      " 0.01497579 0.0998799  0.49041513]\n",
      "The optimized values will product handle time of:  499.17405184878385\n"
     ]
    }
   ],
   "source": [
    "print(\"These are the optimized values: \" ,results.x)\n",
    "print(\"The optimized values will product handle time of: \" ,results.fun)"
   ]
  },
  {
   "cell_type": "code",
   "execution_count": 53,
   "metadata": {},
   "outputs": [],
   "source": [
    "targets = pd.DataFrame({'Metric':names, 'New_Target':results.x})"
   ]
  },
  {
   "cell_type": "code",
   "execution_count": 50,
   "metadata": {},
   "outputs": [
    {
     "data": {
      "text/html": [
       "<div>\n",
       "<style scoped>\n",
       "    .dataframe tbody tr th:only-of-type {\n",
       "        vertical-align: middle;\n",
       "    }\n",
       "\n",
       "    .dataframe tbody tr th {\n",
       "        vertical-align: top;\n",
       "    }\n",
       "\n",
       "    .dataframe thead th {\n",
       "        text-align: right;\n",
       "    }\n",
       "</style>\n",
       "<table border=\"1\" class=\"dataframe\">\n",
       "  <thead>\n",
       "    <tr style=\"text-align: right;\">\n",
       "      <th></th>\n",
       "      <th>Metric</th>\n",
       "      <th>New_Target</th>\n",
       "    </tr>\n",
       "  </thead>\n",
       "  <tbody>\n",
       "    <tr>\n",
       "      <th>0</th>\n",
       "      <td>ADJUSTMENTS</td>\n",
       "      <td>1.500000</td>\n",
       "    </tr>\n",
       "    <tr>\n",
       "      <th>1</th>\n",
       "      <td>BPI_OVERALL_FLOW_COMPLIANCE</td>\n",
       "      <td>0.799999</td>\n",
       "    </tr>\n",
       "    <tr>\n",
       "      <th>2</th>\n",
       "      <td>CUSTOMER_SAVE_RATE_7</td>\n",
       "      <td>0.960003</td>\n",
       "    </tr>\n",
       "    <tr>\n",
       "      <th>3</th>\n",
       "      <td>CUSTOMER_SAVE_RATE_DAY60_NL</td>\n",
       "      <td>0.939991</td>\n",
       "    </tr>\n",
       "    <tr>\n",
       "      <th>4</th>\n",
       "      <td>FCR7</td>\n",
       "      <td>0.860545</td>\n",
       "    </tr>\n",
       "    <tr>\n",
       "      <th>5</th>\n",
       "      <td>FIZZBACK_SAT</td>\n",
       "      <td>0.801337</td>\n",
       "    </tr>\n",
       "    <tr>\n",
       "      <th>6</th>\n",
       "      <td>LEADS_PER_CONTACTS_TOTAL</td>\n",
       "      <td>0.014976</td>\n",
       "    </tr>\n",
       "    <tr>\n",
       "      <th>7</th>\n",
       "      <td>TRANSFER_IMPACT_LEADS</td>\n",
       "      <td>0.099880</td>\n",
       "    </tr>\n",
       "    <tr>\n",
       "      <th>8</th>\n",
       "      <td>FCR45</td>\n",
       "      <td>0.490415</td>\n",
       "    </tr>\n",
       "  </tbody>\n",
       "</table>\n",
       "</div>"
      ],
      "text/plain": [
       "                        Metric  New_Target\n",
       "0                  ADJUSTMENTS    1.500000\n",
       "1  BPI_OVERALL_FLOW_COMPLIANCE    0.799999\n",
       "2         CUSTOMER_SAVE_RATE_7    0.960003\n",
       "3  CUSTOMER_SAVE_RATE_DAY60_NL    0.939991\n",
       "4                         FCR7    0.860545\n",
       "5                 FIZZBACK_SAT    0.801337\n",
       "6     LEADS_PER_CONTACTS_TOTAL    0.014976\n",
       "7        TRANSFER_IMPACT_LEADS    0.099880\n",
       "8                        FCR45    0.490415"
      ]
     },
     "execution_count": 50,
     "metadata": {},
     "output_type": "execute_result"
    }
   ],
   "source": [
    "#The table below finds what values (new targets) to set for the call center agents to follow \n",
    "#in order to minimize the average handle time.\n",
    "targets"
   ]
  },
  {
   "cell_type": "code",
   "execution_count": null,
   "metadata": {},
   "outputs": [],
   "source": []
  },
  {
   "cell_type": "code",
   "execution_count": null,
   "metadata": {},
   "outputs": [],
   "source": []
  }
 ],
 "metadata": {
  "kernelspec": {
   "display_name": "Python 3",
   "language": "python",
   "name": "python3"
  },
  "language_info": {
   "codemirror_mode": {
    "name": "ipython",
    "version": 3
   },
   "file_extension": ".py",
   "mimetype": "text/x-python",
   "name": "python",
   "nbconvert_exporter": "python",
   "pygments_lexer": "ipython3",
   "version": "3.7.3"
  }
 },
 "nbformat": 4,
 "nbformat_minor": 2
}
